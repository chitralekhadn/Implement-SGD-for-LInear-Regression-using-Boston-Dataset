{
 "cells": [
  {
   "cell_type": "code",
   "execution_count": 1,
   "metadata": {
    "colab": {},
    "colab_type": "code",
    "id": "REYPoTJ1Af7u"
   },
   "outputs": [],
   "source": [
    "import warnings\n",
    "warnings.filterwarnings(\"ignore\")\n",
    "from sklearn.datasets import load_boston\n",
    "from random import seed\n",
    "from random import randrange\n",
    "from csv import reader\n",
    "from math import sqrt\n",
    "from sklearn import preprocessing\n",
    "import pandas as pd\n",
    "import numpy as np\n",
    "import matplotlib.pyplot as plt\n",
    "from prettytable import PrettyTable\n",
    "from sklearn.linear_model import SGDRegressor\n",
    "from sklearn import preprocessing\n",
    "from sklearn.metrics import mean_squared_error"
   ]
  },
  {
   "cell_type": "code",
   "execution_count": 2,
   "metadata": {
    "colab": {},
    "colab_type": "code",
    "id": "NTQ2iH-kAwbo"
   },
   "outputs": [],
   "source": [
    "X = load_boston().data\n",
    "Y = load_boston().target"
   ]
  },
  {
   "cell_type": "code",
   "execution_count": 3,
   "metadata": {
    "colab": {},
    "colab_type": "code",
    "id": "FgUW39s6Be0U"
   },
   "outputs": [],
   "source": [
    "scaler = preprocessing.StandardScaler().fit(X)\n",
    "X = scaler.transform(X)"
   ]
  },
  {
   "cell_type": "code",
   "execution_count": 4,
   "metadata": {
    "colab": {
     "base_uri": "https://localhost:8080/",
     "height": 34
    },
    "colab_type": "code",
    "executionInfo": {
     "elapsed": 879,
     "status": "ok",
     "timestamp": 1545718892607,
     "user": {
      "displayName": "Applied AI Course",
      "photoUrl": "https://lh5.googleusercontent.com/-9_3A9F-kDXs/AAAAAAAAAAI/AAAAAAAAACw/IprjYvUuoXQ/s64/photo.jpg",
      "userId": "00484516897554883881"
     },
     "user_tz": -330
    },
    "id": "HNu1sXtEBBS2",
    "outputId": "a0c5d3d0-345c-4a34-8ccf-0d9f3d7d23fd"
   },
   "outputs": [
    {
     "name": "stdout",
     "output_type": "stream",
     "text": [
      "22.887914540599784\n"
     ]
    }
   ],
   "source": [
    "clf = SGDRegressor()\n",
    "clf.fit(X, Y)\n",
    "print(mean_squared_error(Y, clf.predict(X)))"
   ]
  },
  {
   "cell_type": "markdown",
   "metadata": {},
   "source": [
    "# Implement own SGD Regressor"
   ]
  },
  {
   "cell_type": "code",
   "execution_count": 5,
   "metadata": {},
   "outputs": [],
   "source": [
    "X = load_boston().data\n",
    "Y = load_boston().target"
   ]
  },
  {
   "cell_type": "code",
   "execution_count": 6,
   "metadata": {},
   "outputs": [],
   "source": [
    "from numpy import *\n",
    "nan_value = isnan(Y)\n",
    "Y = nan_to_num(Y) "
   ]
  },
  {
   "cell_type": "code",
   "execution_count": 7,
   "metadata": {},
   "outputs": [],
   "source": [
    "from sklearn.model_selection import train_test_split\n",
    "x_train,x_test,y_train,y_test = train_test_split(X,Y,test_size=0.3)"
   ]
  },
  {
   "cell_type": "code",
   "execution_count": 8,
   "metadata": {},
   "outputs": [],
   "source": [
    "from sklearn.preprocessing import StandardScaler \n",
    "import numpy as np\n",
    "s=StandardScaler()\n",
    "x_train=s.fit_transform(np.array(x_train))\n",
    "x_test=s.transform(np.array(x_test))"
   ]
  },
  {
   "cell_type": "code",
   "execution_count": 9,
   "metadata": {},
   "outputs": [],
   "source": [
    "## Convert the data into pandas dataframe format"
   ]
  },
  {
   "cell_type": "code",
   "execution_count": 10,
   "metadata": {},
   "outputs": [],
   "source": [
    "manual_train=pd.DataFrame(data=x_train)\n",
    "manual_train['price']=y_train"
   ]
  },
  {
   "cell_type": "code",
   "execution_count": 11,
   "metadata": {},
   "outputs": [
    {
     "data": {
      "text/html": [
       "<div>\n",
       "<style scoped>\n",
       "    .dataframe tbody tr th:only-of-type {\n",
       "        vertical-align: middle;\n",
       "    }\n",
       "\n",
       "    .dataframe tbody tr th {\n",
       "        vertical-align: top;\n",
       "    }\n",
       "\n",
       "    .dataframe thead th {\n",
       "        text-align: right;\n",
       "    }\n",
       "</style>\n",
       "<table border=\"1\" class=\"dataframe\">\n",
       "  <thead>\n",
       "    <tr style=\"text-align: right;\">\n",
       "      <th></th>\n",
       "      <th>0</th>\n",
       "      <th>1</th>\n",
       "      <th>2</th>\n",
       "      <th>3</th>\n",
       "      <th>4</th>\n",
       "      <th>5</th>\n",
       "      <th>6</th>\n",
       "      <th>7</th>\n",
       "      <th>8</th>\n",
       "      <th>9</th>\n",
       "      <th>10</th>\n",
       "      <th>11</th>\n",
       "      <th>12</th>\n",
       "      <th>price</th>\n",
       "    </tr>\n",
       "  </thead>\n",
       "  <tbody>\n",
       "    <tr>\n",
       "      <th>0</th>\n",
       "      <td>-0.413785</td>\n",
       "      <td>-0.467989</td>\n",
       "      <td>-1.126912</td>\n",
       "      <td>-0.275659</td>\n",
       "      <td>-0.581529</td>\n",
       "      <td>0.205448</td>\n",
       "      <td>0.159679</td>\n",
       "      <td>-0.312677</td>\n",
       "      <td>-0.868385</td>\n",
       "      <td>-0.825930</td>\n",
       "      <td>-0.319537</td>\n",
       "      <td>0.429152</td>\n",
       "      <td>-0.640416</td>\n",
       "      <td>22.0</td>\n",
       "    </tr>\n",
       "    <tr>\n",
       "      <th>1</th>\n",
       "      <td>-0.410687</td>\n",
       "      <td>-0.467989</td>\n",
       "      <td>-1.301505</td>\n",
       "      <td>-0.275659</td>\n",
       "      <td>-0.844627</td>\n",
       "      <td>1.241217</td>\n",
       "      <td>-0.541561</td>\n",
       "      <td>1.048157</td>\n",
       "      <td>-0.754361</td>\n",
       "      <td>-1.108405</td>\n",
       "      <td>0.103766</td>\n",
       "      <td>0.463999</td>\n",
       "      <td>-1.019826</td>\n",
       "      <td>36.2</td>\n",
       "    </tr>\n",
       "    <tr>\n",
       "      <th>2</th>\n",
       "      <td>-0.416740</td>\n",
       "      <td>1.857029</td>\n",
       "      <td>-1.291569</td>\n",
       "      <td>-0.275659</td>\n",
       "      <td>-1.430232</td>\n",
       "      <td>0.272452</td>\n",
       "      <td>-1.335351</td>\n",
       "      <td>1.618634</td>\n",
       "      <td>-0.982409</td>\n",
       "      <td>-0.649383</td>\n",
       "      <td>-1.495379</td>\n",
       "      <td>0.441323</td>\n",
       "      <td>-0.636450</td>\n",
       "      <td>22.0</td>\n",
       "    </tr>\n",
       "  </tbody>\n",
       "</table>\n",
       "</div>"
      ],
      "text/plain": [
       "          0         1         2         3         4         5         6  \\\n",
       "0 -0.413785 -0.467989 -1.126912 -0.275659 -0.581529  0.205448  0.159679   \n",
       "1 -0.410687 -0.467989 -1.301505 -0.275659 -0.844627  1.241217 -0.541561   \n",
       "2 -0.416740  1.857029 -1.291569 -0.275659 -1.430232  0.272452 -1.335351   \n",
       "\n",
       "          7         8         9        10        11        12  price  \n",
       "0 -0.312677 -0.868385 -0.825930 -0.319537  0.429152 -0.640416   22.0  \n",
       "1  1.048157 -0.754361 -1.108405  0.103766  0.463999 -1.019826   36.2  \n",
       "2  1.618634 -0.982409 -0.649383 -1.495379  0.441323 -0.636450   22.0  "
      ]
     },
     "execution_count": 11,
     "metadata": {},
     "output_type": "execute_result"
    }
   ],
   "source": [
    "manual_train.head(3)"
   ]
  },
  {
   "cell_type": "code",
   "execution_count": 12,
   "metadata": {},
   "outputs": [],
   "source": [
    "x_test=np.array(x_test)\n",
    "y_test=np.array(y_test)"
   ]
  },
  {
   "cell_type": "code",
   "execution_count": 27,
   "metadata": {},
   "outputs": [],
   "source": [
    "## function to return weight(w) and bias(b) and mean squared error\n",
    "def manual_fit(X, lr_rate_variation, alpha=0.0001, lr_rate=1, power_t=0.25, n_iter=100):\n",
    "    w_new=np.zeros(shape=(1,13))\n",
    "    b_new=0\n",
    "    t=1\n",
    "    r=lr_rate\n",
    "    \n",
    "    while(t<=n_iter):\n",
    "        w_old=w_new\n",
    "        b_old=b_new\n",
    "        w_=np.zeros(shape=(1,13))\n",
    "        b_=0\n",
    "        x_data=X.sample(10)## we are implementing the sgd with batch size 10\n",
    "        x=np.array(x_data.drop('price',axis=1))\n",
    "        y=np.array(x_data['price'])\n",
    "        \n",
    "        \n",
    "        # for getting the derivatives using sgd with k=10\n",
    "        for i in range(10):  \n",
    "            y_curr=np.dot(w_old,x[i])+b_old\n",
    "            w_+=x[i] * (y[i] - y_curr)\n",
    "            b_+=(y[i]-y_curr)\n",
    "            \n",
    "            \n",
    "        w_*=(-2/x.shape[0])\n",
    "        b_*=(-2/x.shape[0])\n",
    "        \n",
    "        #updating the parameters\n",
    "        w_new=(w_old-r*w_)\n",
    "        b_new=(b_old-r*b_)\n",
    "        \n",
    "        \n",
    "        if(lr_rate_variation=='invscaling'):\n",
    "            r = lr_rate / pow(t, power_t)\n",
    "        t+=1\n",
    "        \n",
    "    return w_new, b_new\n",
    "\n",
    "\n",
    "\n",
    "def pred(x,w, b):\n",
    "    y_pred=[]\n",
    "    for i in range(len(x)):\n",
    "        y=np.asscalar(np.dot(w,x[i])+b)\n",
    "        y_pred.append(y)\n",
    "    return np.array(y_pred)\n",
    "\n",
    "\n",
    "def plot_(test_data,y_pred):\n",
    "    #scatter plot\n",
    "    plt.scatter(y_test,y_pred)\n",
    "    plt.grid(b=True, linewidth=0.3)\n",
    "    plt.title('scatter plot between actual y and predicted y')\n",
    "    plt.xlabel('actual y')\n",
    "    plt.ylabel('predicted y')\n",
    "    plt.show()\n",
    "    print('**************************************************************')\n",
    "    \n",
    "    \n",
    "       \n",
    "    manual_error=mean_squared_error(y_test,y_pred)\n",
    "    print('error=',manual_error)\n",
    "    \n",
    "    return manual_error"
   ]
  },
  {
   "cell_type": "code",
   "execution_count": 28,
   "metadata": {},
   "outputs": [],
   "source": [
    "w, b=manual_fit(X=manual_train, lr_rate_variation='constant' ,lr_rate=1, n_iter=100)"
   ]
  },
  {
   "cell_type": "code",
   "execution_count": 29,
   "metadata": {},
   "outputs": [],
   "source": [
    "y_pred=pred(x_test, w=w, b=b)"
   ]
  },
  {
   "cell_type": "code",
   "execution_count": 30,
   "metadata": {},
   "outputs": [
    {
     "data": {
      "image/png": "[encoded data removed]",
      "text/plain": [
       "<Figure size 432x288 with 1 Axes>"
      ]
     },
     "metadata": {
      "needs_background": "light"
     },
     "output_type": "display_data"
    },
    {
     "name": "stdout",
     "output_type": "stream",
     "text": [
      "**************************************************************\n",
      "error= 6.946691184155619e+205\n"
     ]
    }
   ],
   "source": [
    "manual_error=plot_(x_test,y_pred)"
   ]
  },
  {
   "cell_type": "code",
   "execution_count": 31,
   "metadata": {},
   "outputs": [
    {
     "name": "stdout",
     "output_type": "stream",
     "text": [
      "manual sgd weight---\n",
      " [[ 6.06119901e+101 -1.67303892e+102  1.26106398e+102 -1.02105566e+102\n",
      "   1.02220338e+102 -8.93565611e+101  1.11547957e+102 -9.01932874e+101\n",
      "   1.09588324e+102  1.15497174e+102  1.63917130e+102 -5.39643116e+100\n",
      "   6.62430027e+101]]\n"
     ]
    }
   ],
   "source": [
    "print('manual sgd weight---\\n',w)"
   ]
  },
  {
   "cell_type": "code",
   "execution_count": 32,
   "metadata": {},
   "outputs": [
    {
     "name": "stdout",
     "output_type": "stream",
     "text": [
      "manual sgd intercept= [-5.74545373e+101]\n"
     ]
    }
   ],
   "source": [
    "print('manual sgd intercept=',b)"
   ]
  },
  {
   "cell_type": "code",
   "execution_count": 33,
   "metadata": {},
   "outputs": [],
   "source": [
    "####With lr_rate = 0.5"
   ]
  },
  {
   "cell_type": "code",
   "execution_count": 34,
   "metadata": {},
   "outputs": [],
   "source": [
    "w, b=manual_fit(X=manual_train, lr_rate_variation='constant' ,lr_rate=0.5, n_iter=100)"
   ]
  },
  {
   "cell_type": "code",
   "execution_count": 35,
   "metadata": {},
   "outputs": [],
   "source": [
    "y_pred=pred(x_test, w=w, b=b)"
   ]
  },
  {
   "cell_type": "code",
   "execution_count": 36,
   "metadata": {},
   "outputs": [
    {
     "data": {
      "image/png": "[encoded data removed]",
      "text/plain": [
       "<Figure size 432x288 with 1 Axes>"
      ]
     },
     "metadata": {
      "needs_background": "light"
     },
     "output_type": "display_data"
    },
    {
     "name": "stdout",
     "output_type": "stream",
     "text": [
      "**************************************************************\n",
      "error= 2.9817544853516763e+133\n"
     ]
    }
   ],
   "source": [
    "manual_error=plot_(x_test,y_pred)"
   ]
  },
  {
   "cell_type": "code",
   "execution_count": 37,
   "metadata": {},
   "outputs": [
    {
     "name": "stdout",
     "output_type": "stream",
     "text": [
      "manual sgd weight---\n",
      " [[ 5.42678290e+65 -7.53490387e+65  7.50601637e+65  4.16317694e+65\n",
      "   8.76201616e+65 -4.61783038e+65  9.19448892e+65 -1.11103286e+66\n",
      "   5.60139385e+65  6.24142717e+65  2.22924520e+65 -8.88010942e+65\n",
      "   6.65252704e+65]]\n"
     ]
    }
   ],
   "source": [
    "print('manual sgd weight---\\n',w)"
   ]
  },
  {
   "cell_type": "code",
   "execution_count": 38,
   "metadata": {},
   "outputs": [
    {
     "name": "stdout",
     "output_type": "stream",
     "text": [
      "manual sgd intercept= [-4.23064108e+64]\n"
     ]
    }
   ],
   "source": [
    "print('manual sgd intercept=',b)"
   ]
  },
  {
   "cell_type": "code",
   "execution_count": null,
   "metadata": {},
   "outputs": [],
   "source": [
    "####With lr_rate = 0.25"
   ]
  },
  {
   "cell_type": "code",
   "execution_count": 44,
   "metadata": {},
   "outputs": [],
   "source": [
    "w, b=manual_fit(X=manual_train, lr_rate_variation='constant' ,lr_rate=0.25, n_iter=100)"
   ]
  },
  {
   "cell_type": "code",
   "execution_count": 45,
   "metadata": {},
   "outputs": [],
   "source": [
    "y_pred=pred(x_test, w=w, b=b)"
   ]
  },
  {
   "cell_type": "code",
   "execution_count": 46,
   "metadata": {},
   "outputs": [
    {
     "data": {
      "image/png": "[encoded data removed]",
      "text/plain": [
       "<Figure size 432x288 with 1 Axes>"
      ]
     },
     "metadata": {
      "needs_background": "light"
     },
     "output_type": "display_data"
    },
    {
     "name": "stdout",
     "output_type": "stream",
     "text": [
      "**************************************************************\n",
      "error= 2.9382620481739005e+54\n"
     ]
    }
   ],
   "source": [
    "manual_error=plot_(x_test,y_pred)"
   ]
  },
  {
   "cell_type": "code",
   "execution_count": 47,
   "metadata": {},
   "outputs": [
    {
     "name": "stdout",
     "output_type": "stream",
     "text": [
      "manual sgd weight---\n",
      " [[ 4.86452722e+26  5.75973651e+25  2.64096557e+26 -8.86060538e+25\n",
      "   7.14141415e+25 -9.15598072e+25  3.08296191e+26 -2.03126445e+26\n",
      "   2.58616405e+26  2.75122306e+26  1.42701128e+26 -6.60868825e+26\n",
      "   4.02981256e+25]]\n"
     ]
    }
   ],
   "source": [
    "print('manual sgd weight---\\n',w)"
   ]
  },
  {
   "cell_type": "code",
   "execution_count": 48,
   "metadata": {},
   "outputs": [
    {
     "name": "stdout",
     "output_type": "stream",
     "text": [
      "manual sgd intercept= [-7.9599668e+25]\n"
     ]
    }
   ],
   "source": [
    "print('manual sgd intercept=',b)"
   ]
  },
  {
   "cell_type": "code",
   "execution_count": 42,
   "metadata": {},
   "outputs": [],
   "source": [
    "####With lr_rate = 0.125"
   ]
  },
  {
   "cell_type": "code",
   "execution_count": 49,
   "metadata": {},
   "outputs": [],
   "source": [
    "w, b=manual_fit(X=manual_train, lr_rate_variation='constant' ,lr_rate=0.125, n_iter=100)"
   ]
  },
  {
   "cell_type": "code",
   "execution_count": 50,
   "metadata": {},
   "outputs": [],
   "source": [
    "y_pred=pred(x_test, w=w, b=b)"
   ]
  },
  {
   "cell_type": "code",
   "execution_count": 51,
   "metadata": {},
   "outputs": [
    {
     "data": {
      "image/png": "[encoded data removed]",
      "text/plain": [
       "<Figure size 432x288 with 1 Axes>"
      ]
     },
     "metadata": {
      "needs_background": "light"
     },
     "output_type": "display_data"
    },
    {
     "name": "stdout",
     "output_type": "stream",
     "text": [
      "**************************************************************\n",
      "error= 30.81815674632503\n"
     ]
    }
   ],
   "source": [
    "manual_error=plot_(x_test,y_pred)"
   ]
  },
  {
   "cell_type": "code",
   "execution_count": 52,
   "metadata": {},
   "outputs": [
    {
     "name": "stdout",
     "output_type": "stream",
     "text": [
      "manual sgd weight---\n",
      " [[-1.4033411   1.30828934  0.02907573 -1.07237761 -2.89600993  2.24596944\n",
      "  -0.19807648 -3.25751011  2.86619284 -2.33918207 -2.50635907  1.30724662\n",
      "  -3.179836  ]]\n"
     ]
    }
   ],
   "source": [
    "print('manual sgd weight---\\n',w)"
   ]
  },
  {
   "cell_type": "code",
   "execution_count": 53,
   "metadata": {},
   "outputs": [
    {
     "name": "stdout",
     "output_type": "stream",
     "text": [
      "manual sgd intercept= [22.45354933]\n"
     ]
    }
   ],
   "source": [
    "print('manual sgd intercept=',b)"
   ]
  },
  {
   "cell_type": "code",
   "execution_count": null,
   "metadata": {},
   "outputs": [],
   "source": [
    "####With lr_rate = 0.0625"
   ]
  },
  {
   "cell_type": "code",
   "execution_count": 54,
   "metadata": {},
   "outputs": [],
   "source": [
    "w, b=manual_fit(X=manual_train, lr_rate_variation='constant' ,lr_rate=0.0625, n_iter=100)"
   ]
  },
  {
   "cell_type": "code",
   "execution_count": 55,
   "metadata": {},
   "outputs": [],
   "source": [
    "y_pred=pred(x_test, w=w, b=b)"
   ]
  },
  {
   "cell_type": "code",
   "execution_count": 56,
   "metadata": {},
   "outputs": [
    {
     "data": {
      "image/png": "[encoded data removed]",
      "text/plain": [
       "<Figure size 432x288 with 1 Axes>"
      ]
     },
     "metadata": {
      "needs_background": "light"
     },
     "output_type": "display_data"
    },
    {
     "name": "stdout",
     "output_type": "stream",
     "text": [
      "**************************************************************\n",
      "error= 26.671619418113295\n"
     ]
    }
   ],
   "source": [
    "manual_error=plot_(x_test,y_pred)"
   ]
  },
  {
   "cell_type": "code",
   "execution_count": 57,
   "metadata": {},
   "outputs": [
    {
     "name": "stdout",
     "output_type": "stream",
     "text": [
      "manual sgd weight---\n",
      " [[-0.91739615  1.30105895 -0.31911097 -0.07150682 -1.89669184  2.0707556\n",
      "  -0.14831981 -3.56028212  2.13671389 -1.89498387 -2.03674125  0.61409749\n",
      "  -3.33236213]]\n"
     ]
    }
   ],
   "source": [
    "print('manual sgd weight---\\n',w)"
   ]
  },
  {
   "cell_type": "code",
   "execution_count": 58,
   "metadata": {},
   "outputs": [
    {
     "name": "stdout",
     "output_type": "stream",
     "text": [
      "manual sgd intercept= [22.08380125]\n"
     ]
    }
   ],
   "source": [
    "print('manual sgd intercept=',b)"
   ]
  },
  {
   "cell_type": "markdown",
   "metadata": {},
   "source": [
    "# Using SKLEARN SGD regressor¶"
   ]
  },
  {
   "cell_type": "code",
   "execution_count": 69,
   "metadata": {},
   "outputs": [],
   "source": [
    "## function to return weight(w) and bias(b) and mean squared error using sklearn sgdregressor\n",
    "def sklearn_sgd(alpha, lr_rate_variation, eta0=1, power_t=0.25, n_iter=100, train_data=x_train, test_data=x_test, train_y=y_train, test_y=y_test):\n",
    "    clf=SGDRegressor(alpha=alpha, penalty=None, learning_rate=lr_rate_variation, eta0=eta0, power_t=power_t, n_iter=n_iter)\n",
    "    clf.fit(x_train, y_train)\n",
    "    y_pred=clf.predict(x_test)\n",
    "    \n",
    "    #scatter plot\n",
    "    plt.scatter(y_test,y_pred)\n",
    "    plt.title('scatter plot between actual y and predicted y')\n",
    "    plt.xlabel('actual y')\n",
    "    plt.ylabel('predicted y')\n",
    "    plt.grid(b=True, linewidth=0.5)\n",
    "    plt.show()\n",
    "    print('***********************************************************')\n",
    "    \n",
    "    #kdeplot\n",
    "    \n",
    "       \n",
    "    sgd_error=mean_squared_error(y_test,y_pred)\n",
    "    print('mean sq error=', sgd_error)\n",
    "    print('number of iteration=', n_iter)\n",
    "    \n",
    "    return clf.coef_, clf.intercept_, sgd_error"
   ]
  },
  {
   "cell_type": "code",
   "execution_count": 70,
   "metadata": {},
   "outputs": [
    {
     "name": "stderr",
     "output_type": "stream",
     "text": [
      "/home/chitra/.local/lib/python3.6/site-packages/sklearn/linear_model/stochastic_gradient.py:152: DeprecationWarning: n_iter parameter is deprecated in 0.19 and will be removed in 0.21. Use max_iter and tol instead.\n",
      "  DeprecationWarning)\n"
     ]
    },
    {
     "data": {
      "image/png": "[encoded data removed]",
      "text/plain": [
       "<Figure size 432x288 with 1 Axes>"
      ]
     },
     "metadata": {
      "needs_background": "light"
     },
     "output_type": "display_data"
    },
    {
     "name": "stdout",
     "output_type": "stream",
     "text": [
      "***********************************************************\n",
      "mean sq error= 7.763428865327137e+25\n",
      "number of iteration= 100\n"
     ]
    }
   ],
   "source": [
    "w_sgd, b_sgd, error_sgd=sklearn_sgd(alpha=0.0001, lr_rate_variation='constant', eta0=1, n_iter=100)\n"
   ]
  },
  {
   "cell_type": "code",
   "execution_count": 71,
   "metadata": {},
   "outputs": [
    {
     "name": "stdout",
     "output_type": "stream",
     "text": [
      "sklearn sgd weight---\n",
      " [-1.27425988e+12  1.96618645e+12 -8.42074762e+11 -6.07163339e+11\n",
      "  6.07023730e+11 -1.73587217e+11 -2.29772620e+12  1.81067659e+12\n",
      " -2.35479569e+12  1.80075731e+12 -3.06173447e+12  3.60377894e+12\n",
      "  1.04156887e+12]\n"
     ]
    }
   ],
   "source": [
    "print('sklearn sgd weight---\\n',w_sgd)"
   ]
  },
  {
   "cell_type": "code",
   "execution_count": 72,
   "metadata": {},
   "outputs": [
    {
     "name": "stdout",
     "output_type": "stream",
     "text": [
      "sklearn sgd intercept= [1.14837642e+12]\n"
     ]
    }
   ],
   "source": [
    "print('sklearn sgd intercept=',b_sgd)"
   ]
  },
  {
   "cell_type": "code",
   "execution_count": 73,
   "metadata": {},
   "outputs": [],
   "source": [
    "####With lr_rate = 0.5"
   ]
  },
  {
   "cell_type": "code",
   "execution_count": 74,
   "metadata": {},
   "outputs": [
    {
     "name": "stderr",
     "output_type": "stream",
     "text": [
      "/home/chitra/.local/lib/python3.6/site-packages/sklearn/linear_model/stochastic_gradient.py:152: DeprecationWarning: n_iter parameter is deprecated in 0.19 and will be removed in 0.21. Use max_iter and tol instead.\n",
      "  DeprecationWarning)\n"
     ]
    },
    {
     "data": {
      "image/png": "[encoded data removed]",
      "text/plain": [
       "<Figure size 432x288 with 1 Axes>"
      ]
     },
     "metadata": {
      "needs_background": "light"
     },
     "output_type": "display_data"
    },
    {
     "name": "stdout",
     "output_type": "stream",
     "text": [
      "***********************************************************\n",
      "mean sq error= 1.7910851565042195e+25\n",
      "number of iteration= 100\n"
     ]
    }
   ],
   "source": [
    "w_sgd, b_sgd, error_sgd=sklearn_sgd(alpha=0.0001, lr_rate_variation='constant', eta0=0.5, n_iter=100)"
   ]
  },
  {
   "cell_type": "code",
   "execution_count": 75,
   "metadata": {},
   "outputs": [
    {
     "name": "stdout",
     "output_type": "stream",
     "text": [
      "sklearn sgd weight---\n",
      " [-1.52654413e+12 -6.15420313e+11 -3.18910572e+11  9.11242418e+11\n",
      " -9.96815272e+11 -2.25723662e+12 -6.36577871e+11  1.96741586e+11\n",
      " -1.18684906e+12 -1.01580084e+12  6.29049318e+11 -6.88499609e+11\n",
      "  2.20837201e+12]\n"
     ]
    }
   ],
   "source": [
    "print('sklearn sgd weight---\\n',w_sgd)"
   ]
  },
  {
   "cell_type": "code",
   "execution_count": 76,
   "metadata": {},
   "outputs": [
    {
     "name": "stdout",
     "output_type": "stream",
     "text": [
      "sklearn sgd intercept= [-1.08309974e+12]\n"
     ]
    }
   ],
   "source": [
    "print('sklearn sgd intercept=',b_sgd)"
   ]
  },
  {
   "cell_type": "code",
   "execution_count": null,
   "metadata": {},
   "outputs": [],
   "source": [
    "####With lr_rate = 0.25"
   ]
  },
  {
   "cell_type": "code",
   "execution_count": 77,
   "metadata": {},
   "outputs": [
    {
     "name": "stderr",
     "output_type": "stream",
     "text": [
      "/home/chitra/.local/lib/python3.6/site-packages/sklearn/linear_model/stochastic_gradient.py:152: DeprecationWarning: n_iter parameter is deprecated in 0.19 and will be removed in 0.21. Use max_iter and tol instead.\n",
      "  DeprecationWarning)\n"
     ]
    },
    {
     "data": {
      "image/png": "[encoded data removed]",
      "text/plain": [
       "<Figure size 432x288 with 1 Axes>"
      ]
     },
     "metadata": {
      "needs_background": "light"
     },
     "output_type": "display_data"
    },
    {
     "name": "stdout",
     "output_type": "stream",
     "text": [
      "***********************************************************\n",
      "mean sq error= 1.3455720631292822e+24\n",
      "number of iteration= 100\n"
     ]
    }
   ],
   "source": [
    "w_sgd, b_sgd, error_sgd=sklearn_sgd(alpha=0.0001, lr_rate_variation='constant', eta0=0.25, n_iter=100)"
   ]
  },
  {
   "cell_type": "code",
   "execution_count": 78,
   "metadata": {},
   "outputs": [
    {
     "name": "stdout",
     "output_type": "stream",
     "text": [
      "sklearn sgd weight---\n",
      " [ 1.99786673e+11  6.12108168e+10 -6.25254841e+10  4.83762580e+11\n",
      " -5.30539957e+11  3.50916681e+11  5.59784291e+11  6.54155991e+10\n",
      " -5.62355700e+11  4.18825206e+11  6.90205547e+11  5.89253898e+11\n",
      " -2.32375889e+11]\n"
     ]
    }
   ],
   "source": [
    "print('sklearn sgd weight---\\n',w_sgd)"
   ]
  },
  {
   "cell_type": "code",
   "execution_count": 79,
   "metadata": {},
   "outputs": [
    {
     "name": "stdout",
     "output_type": "stream",
     "text": [
      "sklearn sgd intercept= [-5.73976803e+11]\n"
     ]
    }
   ],
   "source": [
    "print('sklearn sgd intercept=',b_sgd)"
   ]
  },
  {
   "cell_type": "code",
   "execution_count": null,
   "metadata": {},
   "outputs": [],
   "source": [
    "####With lr_rate = 0.125"
   ]
  },
  {
   "cell_type": "code",
   "execution_count": 80,
   "metadata": {},
   "outputs": [
    {
     "name": "stderr",
     "output_type": "stream",
     "text": [
      "/home/chitra/.local/lib/python3.6/site-packages/sklearn/linear_model/stochastic_gradient.py:152: DeprecationWarning: n_iter parameter is deprecated in 0.19 and will be removed in 0.21. Use max_iter and tol instead.\n",
      "  DeprecationWarning)\n"
     ]
    },
    {
     "data": {
      "image/png": "[encoded data removed]",
      "text/plain": [
       "<Figure size 432x288 with 1 Axes>"
      ]
     },
     "metadata": {
      "needs_background": "light"
     },
     "output_type": "display_data"
    },
    {
     "name": "stdout",
     "output_type": "stream",
     "text": [
      "***********************************************************\n",
      "mean sq error= 1.1454894005558339e+24\n",
      "number of iteration= 100\n"
     ]
    }
   ],
   "source": [
    "w_sgd, b_sgd, error_sgd=sklearn_sgd(alpha=0.0001, lr_rate_variation='constant', eta0=0.125, n_iter=100)"
   ]
  },
  {
   "cell_type": "code",
   "execution_count": 81,
   "metadata": {},
   "outputs": [
    {
     "name": "stdout",
     "output_type": "stream",
     "text": [
      "sklearn sgd weight---\n",
      " [-3.00285761e+11  3.76763914e+11 -2.24184347e+11  2.40334882e+11\n",
      " -2.33424815e+11 -1.24637211e+11 -2.09807916e+11  1.18551981e+11\n",
      " -7.55121081e+09 -1.24112435e+11  6.88658762e+10  9.61953744e+10\n",
      "  5.08944678e+10]\n"
     ]
    }
   ],
   "source": [
    "print('sklearn sgd weight---\\n',w_sgd)"
   ]
  },
  {
   "cell_type": "code",
   "execution_count": 82,
   "metadata": {},
   "outputs": [
    {
     "name": "stdout",
     "output_type": "stream",
     "text": [
      "sklearn sgd intercept= [-2.22501238e+11]\n"
     ]
    }
   ],
   "source": [
    "print('sklearn sgd intercept=',b_sgd)"
   ]
  },
  {
   "cell_type": "code",
   "execution_count": 83,
   "metadata": {},
   "outputs": [],
   "source": [
    "####With lr_rate = 0.0625"
   ]
  },
  {
   "cell_type": "code",
   "execution_count": 84,
   "metadata": {},
   "outputs": [
    {
     "name": "stderr",
     "output_type": "stream",
     "text": [
      "/home/chitra/.local/lib/python3.6/site-packages/sklearn/linear_model/stochastic_gradient.py:152: DeprecationWarning: n_iter parameter is deprecated in 0.19 and will be removed in 0.21. Use max_iter and tol instead.\n",
      "  DeprecationWarning)\n"
     ]
    },
    {
     "data": {
      "image/png": "[encoded data removed]",
      "text/plain": [
       "<Figure size 432x288 with 1 Axes>"
      ]
     },
     "metadata": {
      "needs_background": "light"
     },
     "output_type": "display_data"
    },
    {
     "name": "stdout",
     "output_type": "stream",
     "text": [
      "***********************************************************\n",
      "mean sq error= 57.44240024989603\n",
      "number of iteration= 100\n"
     ]
    }
   ],
   "source": [
    "w_sgd, b_sgd, error_sgd=sklearn_sgd(alpha=0.0001, lr_rate_variation='constant', eta0=0.0625, n_iter=100)"
   ]
  },
  {
   "cell_type": "code",
   "execution_count": 85,
   "metadata": {},
   "outputs": [
    {
     "name": "stdout",
     "output_type": "stream",
     "text": [
      "sklearn sgd weight---\n",
      " [ 2.99442149  1.15743694 -1.5303219   2.74891573 -5.20582144  0.32878364\n",
      " -0.64837205 -3.72909232  4.58000077 -3.31488487 -1.17840665 -0.17610881\n",
      " -1.58478072]\n"
     ]
    }
   ],
   "source": [
    "print('sklearn sgd weight---\\n',w_sgd)"
   ]
  },
  {
   "cell_type": "code",
   "execution_count": 86,
   "metadata": {},
   "outputs": [
    {
     "name": "stdout",
     "output_type": "stream",
     "text": [
      "sklearn sgd intercept= [22.6636043]\n"
     ]
    }
   ],
   "source": [
    "print('sklearn sgd intercept=',b_sgd)"
   ]
  },
  {
   "cell_type": "markdown",
   "metadata": {},
   "source": [
    "# Conclusion:"
   ]
  },
  {
   "cell_type": "code",
   "execution_count": 1,
   "metadata": {},
   "outputs": [
    {
     "name": "stdout",
     "output_type": "stream",
     "text": [
      "+---------------+------------+-------+----------+\n",
      "| learning rate |    SGD     | error |   bias   |\n",
      "+---------------+------------+-------+----------+\n",
      "|       1       | manualSGD  |  6.94 |   -5.7   |\n",
      "|       1       | sklearnSGD |  7.76 | 1.14e^12 |\n",
      "|      0.5      | manualSGD  |  2.98 |   -4.2   |\n",
      "|      0.5      | sklearnSGD |  1.79 |  -1.08   |\n",
      "|      0.25     | manualSGD  |  2.93 |   -7.9   |\n",
      "|      0.25     | sklearnSGD |  1.34 |  -5.73   |\n",
      "|     0.125     | manualSGD  | 30.81 |   22.4   |\n",
      "|     0.125     | sklearnSGD |  1.14 |   22.4   |\n",
      "|     0.0625    | manualSGD  | 26.67 |  22.08   |\n",
      "|     0.0625    | sklearnSGD | 57.44 |  22.66   |\n",
      "+---------------+------------+-------+----------+\n"
     ]
    }
   ],
   "source": [
    "from prettytable import PrettyTable\n",
    "    \n",
    "x = PrettyTable()\n",
    "\n",
    "x.field_names = [\"learning rate\", \"SGD\",\"error\",\"bias\"]\n",
    "\n",
    "x.add_row([\"1\", \"manualSGD\",\"6.94\",\"-5.7\"])\n",
    "x.add_row([\"1\", \"sklearnSGD\",\"7.76\",\"1.14e^12\"])\n",
    "x.add_row([\"0.5\", \"manualSGD\",\"2.98\",\"-4.2\"])\n",
    "x.add_row([\"0.5\", \"sklearnSGD\",\"1.79\",\"-1.08\"])\n",
    "x.add_row([\"0.25\", \"manualSGD\",\"2.93\",\"-7.9\"])\n",
    "x.add_row([\"0.25\", \"sklearnSGD\",\"1.34\",\"-5.73\"])\n",
    "x.add_row([\"0.125\", \"manualSGD\",\"30.81\",\"22.4\"])\n",
    "x.add_row([\"0.125\", \"sklearnSGD\",\"1.14\",\"22.4\"])\n",
    "x.add_row([\"0.0625\", \"manualSGD\",\"26.67\",\"22.08\"])\n",
    "x.add_row([\"0.0625\", \"sklearnSGD\",\"57.44\",\"22.66\"])\n",
    "print(x)"
   ]
  },
  {
   "cell_type": "raw",
   "metadata": {},
   "source": [
    "1) As learning rate deacreases mean sequared error decreases and after learning rate 0.125 error increases in manualSGD.\n",
    "2) In sklearn SGD error decreases as learning rate decreases. it increases from learning rate 0.0625.\n",
    "3) Bias are similar as learning rate decreases.\n",
    "4) As learning rate decreases bias are similar, manualSGD similar as SklearnSGD. "
   ]
  },
  {
   "cell_type": "code",
   "execution_count": null,
   "metadata": {},
   "outputs": [],
   "source": []
  }
 ],
 "metadata": {
  "colab": {
   "name": "Untitled3.ipynb",
   "provenance": [],
   "version": "0.3.2"
  },
  "kernelspec": {
   "display_name": "Python 3",
   "language": "python",
   "name": "python3"
  },
  "language_info": {
   "codemirror_mode": {
    "name": "ipython",
    "version": 3
   },
   "file_extension": ".py",
   "mimetype": "text/x-python",
   "name": "python",
   "nbconvert_exporter": "python",
   "pygments_lexer": "ipython3",
   "version": "3.6.7"
  }
 },
 "nbformat": 4,
 "nbformat_minor": 1
}
